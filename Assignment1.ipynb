{
 "cells": [
  {
   "cell_type": "markdown",
   "metadata": {},
   "source": [
    "# ASSIGNMENT 1"
   ]
  },
  {
   "cell_type": "markdown",
   "metadata": {},
   "source": [
    "### Write a Python program to print the following string in a specific format​\n"
   ]
  },
  {
   "cell_type": "markdown",
   "metadata": {},
   "source": [
    "Twinkle, twinkle, little star,​\n",
    "\n",
    "How I wonder what you are! ​\n",
    "\n",
    "Up above the world so high,   ​\n",
    "\n",
    "Like a diamond in the sky. ​\n",
    "\n",
    "Twinkle, twinkle, little star, ​\n",
    "\n",
    "How I wonder what you are​"
   ]
  },
  {
   "cell_type": "markdown",
   "metadata": {},
   "source": [
    " for printing the sequence print() is used.\n",
    " \\n is used to new line\n",
    " \\t is used for tab"
   ]
  },
  {
   "cell_type": "code",
   "execution_count": 1,
   "metadata": {},
   "outputs": [
    {
     "name": "stdout",
     "output_type": "stream",
     "text": [
      "Twinkle, twinkle, little star, \n",
      "\tHow I wonder what you are! \n",
      "\t\tUp above the world so high, \n",
      "\t\tLike a diamond in the sky. \n",
      "Twinkle, twinkle, little star, \n",
      "\tHow I wonder what you are!\n"
     ]
    }
   ],
   "source": [
    "print(\"Twinkle, twinkle, little star, \\n\\tHow I wonder what you are! \\n\\t\\tUp above the world so high, \\n\\t\\tLike a diamond in the sky. \\nTwinkle, twinkle, little star, \\n\\tHow I wonder what you are!\")"
   ]
  },
  {
   "cell_type": "markdown",
   "metadata": {},
   "source": [
    "### Write a Python program which accepts the radius of a circle from the user and compute the area.​"
   ]
  },
  {
   "cell_type": "markdown",
   "metadata": {},
   "source": [
    "for computing radius of the circle a=3.14*r*r equation is used. "
   ]
  },
  {
   "cell_type": "code",
   "execution_count": 2,
   "metadata": {},
   "outputs": [
    {
     "name": "stdout",
     "output_type": "stream",
     "text": [
      "28.259999999999998\n"
     ]
    }
   ],
   "source": [
    "r=float(input(\"Enter the radius of the circle\"))\n",
    "\n",
    "a=(3.14*r*r)\n",
    "\n",
    "print(a)"
   ]
  },
  {
   "cell_type": "markdown",
   "metadata": {},
   "source": [
    "### One extra large 18 degree pizza costs as much as two medium 12 degree pizaas.If i wanted to get the most pizza possible,should i buy one 18 degree pizza of the two 12 degree pizzas?"
   ]
  },
  {
   "cell_type": "code",
   "execution_count": 1,
   "metadata": {},
   "outputs": [
    {
     "name": "stdout",
     "output_type": "stream",
     "text": [
      "1017.36\n",
      "452.16\n",
      "Large pizza is will be profitable\n"
     ]
    }
   ],
   "source": [
    "Large_pizza=3.14 * (18*18)\n",
    "Medium_pizza=3.14 * (12*12)\n",
    "print(Large_pizza)\n",
    "print(Medium_pizza)\n",
    "two_mediumsized_pizza =Medium_pizza*2\n",
    "if(Large_pizza>two_mediumsized_pizza):\n",
    "    print(\"Large pizza is will be profitable\")\n",
    "else:print(\"Medium pizza is profitable\")"
   ]
  }
 ],
 "metadata": {
  "kernelspec": {
   "display_name": "Python 3.10.7 64-bit",
   "language": "python",
   "name": "python3"
  },
  "language_info": {
   "codemirror_mode": {
    "name": "ipython",
    "version": 3
   },
   "file_extension": ".py",
   "mimetype": "text/x-python",
   "name": "python",
   "nbconvert_exporter": "python",
   "pygments_lexer": "ipython3",
   "version": "3.10.7"
  },
  "orig_nbformat": 4,
  "vscode": {
   "interpreter": {
    "hash": "26a48ffca38c3a245fc30c748011573a17370707d51a419a8ba2627a630ca330"
   }
  }
 },
 "nbformat": 4,
 "nbformat_minor": 2
}
